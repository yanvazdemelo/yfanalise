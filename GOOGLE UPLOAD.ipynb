{
 "cells": [
  {
   "cell_type": "code",
   "execution_count": 1,
   "id": "453c1a59-189f-49d0-9989-3575a8fab21a",
   "metadata": {
    "execution": {
     "iopub.execute_input": "2024-04-29T02:17:50.734158Z",
     "iopub.status.busy": "2024-04-29T02:17:50.733159Z",
     "iopub.status.idle": "2024-04-29T02:17:50.747903Z",
     "shell.execute_reply": "2024-04-29T02:17:50.747903Z",
     "shell.execute_reply.started": "2024-04-29T02:17:50.734158Z"
    },
    "tags": []
   },
   "outputs": [
    {
     "data": {
      "text/plain": [
       "'!pip install google-api-python-client'"
      ]
     },
     "execution_count": 1,
     "metadata": {},
     "output_type": "execute_result"
    }
   ],
   "source": [
    "'''!pip install google-api-python-client'''"
   ]
  },
  {
   "cell_type": "code",
   "execution_count": 2,
   "id": "4a4f3056-f40b-4e74-8c8c-0b549956c78b",
   "metadata": {
    "execution": {
     "iopub.execute_input": "2024-04-29T02:17:50.750902Z",
     "iopub.status.busy": "2024-04-29T02:17:50.750902Z",
     "iopub.status.idle": "2024-04-29T02:17:50.925236Z",
     "shell.execute_reply": "2024-04-29T02:17:50.925236Z",
     "shell.execute_reply.started": "2024-04-29T02:17:50.750902Z"
    },
    "tags": []
   },
   "outputs": [],
   "source": [
    "from googleapiclient.discovery import build\n",
    "from google.oauth2.service_account import Credentials\n",
    "from googleapiclient.http import MediaFileUpload"
   ]
  },
  {
   "cell_type": "code",
   "execution_count": 3,
   "id": "a44f2108-b3a7-47cc-9731-3e9d5bb09868",
   "metadata": {
    "execution": {
     "iopub.execute_input": "2024-04-29T02:17:50.926231Z",
     "iopub.status.busy": "2024-04-29T02:17:50.926231Z",
     "iopub.status.idle": "2024-04-29T02:17:50.969928Z",
     "shell.execute_reply": "2024-04-29T02:17:50.969290Z",
     "shell.execute_reply.started": "2024-04-29T02:17:50.926231Z"
    },
    "tags": []
   },
   "outputs": [],
   "source": [
    "SCOPES = ['https://www.googleapis.com/auth/drive']\n",
    "CREDENTIALS_FILE = 'C:\\\\Users\\\\yanme\\\\OneDrive\\\\Área de Trabalho\\\\Portifólio\\\\yfanalise\\\\yfinance-data-analisys-628f390e0a95.json'\n",
    "credentials = Credentials.from_service_account_file(CREDENTIALS_FILE, scopes=SCOPES)\n",
    "drive = build('drive', 'v3', credentials=credentials)\n",
    "drive_service = build('drive', 'v3', credentials=credentials)\n",
    "\n",
    "######################### Funções\n",
    "def delete_file(file_name, folder_id):\n",
    "    try:\n",
    "        # Listar todos os arquivos na pasta de destino\n",
    "        response = drive_service.files().list(q=f\"'{folder_id}' in parents\",\n",
    "                                               fields=\"files(id, name)\").execute()\n",
    "        files = response.get('files', [])\n",
    "        \n",
    "        # Procurar pelo arquivo com o nome específico\n",
    "        file_id = None\n",
    "        for file in files:\n",
    "            if file['name'] == file_name:\n",
    "                file_id = file['id']\n",
    "                break\n",
    "        \n",
    "        # Se o arquivo for encontrado, exclua-o\n",
    "        if file_id:\n",
    "            drive_service.files().delete(fileId=file_id).execute()\n",
    "            print(f\"Arquivo '{file_name}' excluído com sucesso.\")\n",
    "        else:\n",
    "            print(f\"Arquivo '{file_name}' não encontrado na pasta.\")\n",
    "    except Exception as e:\n",
    "        print(f\"Erro ao excluir arquivo: {e}\")\n",
    "\n",
    "def upload_file(file_path, file_name, folder_id):\n",
    "    # Faz upload do arquivo para o Google Drive\n",
    "    media_body = MediaFileUpload(file_path, mimetype='application/octet-stream')\n",
    "    file_metadata = {\n",
    "        'name': file_name,\n",
    "        'parents': [folder_id]\n",
    "    }\n",
    "    drive_service.files().create(\n",
    "        body=file_metadata,\n",
    "        media_body=media_body,\n",
    "        fields='id'\n",
    "    ).execute()\n",
    "    print(f\"Upload do arquivo '{file_name}' concluído com sucesso.\")"
   ]
  },
  {
   "cell_type": "code",
   "execution_count": 6,
   "id": "76ede2e0-4b24-4ed3-822d-025a04761912",
   "metadata": {
    "execution": {
     "iopub.execute_input": "2024-04-29T03:01:09.108134Z",
     "iopub.status.busy": "2024-04-29T03:01:09.108134Z",
     "iopub.status.idle": "2024-04-29T03:01:18.872679Z",
     "shell.execute_reply": "2024-04-29T03:01:18.872679Z",
     "shell.execute_reply.started": "2024-04-29T03:01:09.108134Z"
    },
    "tags": []
   },
   "outputs": [
    {
     "name": "stdout",
     "output_type": "stream",
     "text": [
      "Arquivo 'yfhistoric.db' excluído com sucesso.\n",
      "Upload do arquivo 'yfhistoric.db' concluído com sucesso.\n"
     ]
    }
   ],
   "source": [
    "name = 'yfhistoric.db'\n",
    "file_path = f'C:\\\\Users\\\\yanme\\\\OneDrive\\\\Área de Trabalho\\\\Portifólio\\\\yfanalise\\\\yfhistoric.db'\n",
    "folder_id = '1sX6i8z3Oo7q9kCgfiZbb7jYegCA54LrL'\n",
    "\n",
    "# Excluir arquivo existente, se houver\n",
    "delete_file(name, folder_id)\n",
    "# Fazer upload do novo arquivo\n",
    "upload_file(file_path, name, folder_id)"
   ]
  },
  {
   "cell_type": "code",
   "execution_count": 11,
   "id": "a2392743-c35e-466b-8f5f-6b1bbaca81fe",
   "metadata": {
    "execution": {
     "iopub.execute_input": "2024-04-29T03:04:59.516405Z",
     "iopub.status.busy": "2024-04-29T03:04:59.515404Z",
     "iopub.status.idle": "2024-04-29T03:05:00.056420Z",
     "shell.execute_reply": "2024-04-29T03:05:00.056420Z",
     "shell.execute_reply.started": "2024-04-29T03:04:59.516405Z"
    },
    "tags": []
   },
   "outputs": [
    {
     "name": "stdout",
     "output_type": "stream",
     "text": [
      "IDs e nomes das subpastas:\n",
      "ID: 1WM_KG0gzV041sxLt3038_hCKkk-OKB49, Nome: test2\n",
      "ID: 1Pjkgdd5KjQv4U--YQZyjPNQgK4EVV-cj, Nome: test\n"
     ]
    }
   ],
   "source": [
    "def get_subfolders(folder_id):\n",
    "    subfolders = []\n",
    "    try:\n",
    "        # Listar todos os arquivos na pasta especificada\n",
    "        response = drive_service.files().list(q=f\"'{folder_id}' in parents and mimeType='application/vnd.google-apps.folder'\",\n",
    "                                               fields=\"files(id, name)\").execute()\n",
    "        files = response.get('files', [])\n",
    "        \n",
    "        # Extrair IDs e nomes das subpastas\n",
    "        subfolders = [(file['id'], file['name']) for file in files]\n",
    "    except Exception as e:\n",
    "        print(f\"Erro ao obter subpastas: {e}\")\n",
    "    \n",
    "    return subfolders\n",
    "\n",
    "# Exemplo de uso:\n",
    "subfolders = get_subfolders(folder_id)\n",
    "print(\"IDs e nomes das subpastas:\")\n",
    "for subfolder_id, subfolder_name in subfolders:\n",
    "    print(f\"ID: {subfolder_id}, Nome: {subfolder_name}\")"
   ]
  },
  {
   "cell_type": "code",
   "execution_count": null,
   "id": "61ef3186-7309-4d65-b394-63608b6ee1bb",
   "metadata": {},
   "outputs": [],
   "source": [
    "def backup("
   ]
  }
 ],
 "metadata": {
  "kernelspec": {
   "display_name": "Python 3 (ipykernel)",
   "language": "python",
   "name": "python3"
  },
  "language_info": {
   "codemirror_mode": {
    "name": "ipython",
    "version": 3
   },
   "file_extension": ".py",
   "mimetype": "text/x-python",
   "name": "python",
   "nbconvert_exporter": "python",
   "pygments_lexer": "ipython3",
   "version": "3.11.4"
  }
 },
 "nbformat": 4,
 "nbformat_minor": 5
}
