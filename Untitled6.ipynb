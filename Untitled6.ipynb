{
 "cells": [
  {
   "cell_type": "code",
   "execution_count": 1,
   "id": "12b5e8f5-97a3-4424-8b6e-06a24a55ba9b",
   "metadata": {
    "execution": {
     "iopub.execute_input": "2024-05-12T04:00:44.085557Z",
     "iopub.status.busy": "2024-05-12T04:00:44.084579Z",
     "iopub.status.idle": "2024-05-12T04:00:44.093876Z",
     "shell.execute_reply": "2024-05-12T04:00:44.092890Z",
     "shell.execute_reply.started": "2024-05-12T04:00:44.085557Z"
    },
    "tags": []
   },
   "outputs": [
    {
     "name": "stdout",
     "output_type": "stream",
     "text": [
      "Data: 2022-04-20 00:00:00\n",
      "Número Inteiro: 738265\n"
     ]
    }
   ],
   "source": [
    "from datetime import datetime\n",
    "\n",
    "# Exemplo de data\n",
    "data = datetime(2022, 4, 20)  # ano, mês, dia\n",
    "\n",
    "# Converter a data em um número inteiro\n",
    "numero_inteiro = data.toordinal()\n",
    "\n",
    "print(\"Data:\", data)\n",
    "print(\"Número Inteiro:\", numero_inteiro)\n"
   ]
  },
  {
   "cell_type": "code",
   "execution_count": null,
   "id": "31967768-b81c-40f0-8856-7e55b93c172b",
   "metadata": {},
   "outputs": [],
   "source": []
  }
 ],
 "metadata": {
  "kernelspec": {
   "display_name": "Python 3 (ipykernel)",
   "language": "python",
   "name": "python3"
  },
  "language_info": {
   "codemirror_mode": {
    "name": "ipython",
    "version": 3
   },
   "file_extension": ".py",
   "mimetype": "text/x-python",
   "name": "python",
   "nbconvert_exporter": "python",
   "pygments_lexer": "ipython3",
   "version": "3.11.4"
  }
 },
 "nbformat": 4,
 "nbformat_minor": 5
}
