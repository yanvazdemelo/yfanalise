{
 "cells": [
  {
   "cell_type": "code",
   "execution_count": 1,
   "id": "9e378829-3f07-4058-b8da-7257e782e72e",
   "metadata": {
    "execution": {
     "iopub.execute_input": "2024-04-28T19:56:34.792771Z",
     "iopub.status.busy": "2024-04-28T19:56:34.792771Z",
     "iopub.status.idle": "2024-04-28T19:56:35.289960Z",
     "shell.execute_reply": "2024-04-28T19:56:35.289960Z",
     "shell.execute_reply.started": "2024-04-28T19:56:34.792771Z"
    },
    "tags": []
   },
   "outputs": [],
   "source": [
    "import os\n",
    "import pandas as pd\n",
    "import yfinance as yf\n",
    "from datetime import datetime, timedelta\n",
    "import sqlite3\n",
    "import sys\n",
    "import re"
   ]
  },
  {
   "cell_type": "code",
   "execution_count": 2,
   "id": "cd513044-b733-4a51-be91-3cd6ea63eec4",
   "metadata": {
    "execution": {
     "iopub.execute_input": "2024-04-28T19:56:35.291898Z",
     "iopub.status.busy": "2024-04-28T19:56:35.291898Z",
     "iopub.status.idle": "2024-04-28T19:56:35.295306Z",
     "shell.execute_reply": "2024-04-28T19:56:35.295306Z",
     "shell.execute_reply.started": "2024-04-28T19:56:35.291898Z"
    },
    "tags": []
   },
   "outputs": [
    {
     "name": "stdout",
     "output_type": "stream",
     "text": [
      "tickererrors_2024-04-28.txt\n"
     ]
    }
   ],
   "source": [
    "todaydt = datetime.today()\n",
    "todaystr = todaydt.strftime(\"%Y-%m-%d\")\n",
    "e_ticket = f\"tickererrors_{todaystr}.txt\"\n",
    "print(f'O arquivo utilizado para verificar os tickers é :{e_ticket}')"
   ]
  },
  {
   "cell_type": "code",
   "execution_count": 3,
   "id": "32232a34-2ab7-407d-a00a-31ef4a09ba4d",
   "metadata": {
    "execution": {
     "iopub.execute_input": "2024-04-28T19:56:35.296296Z",
     "iopub.status.busy": "2024-04-28T19:56:35.296296Z",
     "iopub.status.idle": "2024-04-28T19:56:35.305805Z",
     "shell.execute_reply": "2024-04-28T19:56:35.305805Z",
     "shell.execute_reply.started": "2024-04-28T19:56:35.296296Z"
    },
    "tags": []
   },
   "outputs": [],
   "source": [
    "rootdire =  os.getcwd()\n",
    "rootdire_list = os.listdir(rootdire)"
   ]
  },
  {
   "cell_type": "code",
   "execution_count": 4,
   "id": "5fa2c704-0f75-41d5-a9f7-727c15e92493",
   "metadata": {
    "execution": {
     "iopub.execute_input": "2024-04-28T19:56:35.307793Z",
     "iopub.status.busy": "2024-04-28T19:56:35.306793Z",
     "iopub.status.idle": "2024-04-28T19:56:35.318440Z",
     "shell.execute_reply": "2024-04-28T19:56:35.318440Z",
     "shell.execute_reply.started": "2024-04-28T19:56:35.307793Z"
    },
    "tags": []
   },
   "outputs": [],
   "source": [
    "if e_ticket in rootdire_list:\n",
    "    with open(e_ticket, 'r') as file:\n",
    "        error_output = file.read()\n",
    "    pattern = re.compile(r\"\\['(.*?)'\\]\")\n",
    "    tickers_with_errors = pattern.findall(error_output)\n",
    "    df = pd.DataFrame(tickers_with_errors, columns=['Ticker'])\n",
    "    df['Ticker'] = df['Ticker'].drop_duplicates()\n",
    "    df.reset_index(drop=True, inplace=True)\n",
    "    df.dropna(inplace=True)"
   ]
  },
  {
   "cell_type": "code",
   "execution_count": 5,
   "id": "9139e08f-d75f-4ba2-9c80-930562d41fb8",
   "metadata": {
    "execution": {
     "iopub.execute_input": "2024-04-28T19:56:35.319437Z",
     "iopub.status.busy": "2024-04-28T19:56:35.319437Z",
     "iopub.status.idle": "2024-04-28T19:56:35.343118Z",
     "shell.execute_reply": "2024-04-28T19:56:35.343118Z",
     "shell.execute_reply.started": "2024-04-28T19:56:35.319437Z"
    },
    "tags": []
   },
   "outputs": [],
   "source": [
    "conn = sqlite3.connect('yfhistoric.db')\n",
    "cursor = conn.cursor()\n",
    "command = \"SELECT * FROM tickets\"\n",
    "dfsql = pd.read_sql_query(command, conn)\n",
    "dfsql.rename(columns={'ticcode': 'Ticker'}, inplace=True)\n",
    "df = pd.merge(df, dfsql, on='Ticker', how='left', indicator=True)\n",
    "df.drop(columns={'datatype', '_merge', 'id'}, inplace=True)\n",
    "conn.close()"
   ]
  },
  {
   "cell_type": "code",
   "execution_count": 6,
   "id": "6695f442-1081-486b-91b5-d5bcdae76acd",
   "metadata": {
    "execution": {
     "iopub.execute_input": "2024-04-28T19:56:35.344108Z",
     "iopub.status.busy": "2024-04-28T19:56:35.344108Z",
     "iopub.status.idle": "2024-04-28T19:56:35.552965Z",
     "shell.execute_reply": "2024-04-28T19:56:35.552965Z",
     "shell.execute_reply.started": "2024-04-28T19:56:35.344108Z"
    },
    "tags": []
   },
   "outputs": [],
   "source": [
    "df.to_excel(f\"output_{todaystr}.xlsx\", index=False)"
   ]
  },
  {
   "cell_type": "code",
   "execution_count": null,
   "id": "5086b20a-5853-4f63-b518-de3f16cd62ee",
   "metadata": {},
   "outputs": [],
   "source": []
  },
  {
   "cell_type": "code",
   "execution_count": null,
   "id": "4692e4f9-abe7-4620-9046-8dc9b8faf428",
   "metadata": {},
   "outputs": [],
   "source": []
  }
 ],
 "metadata": {
  "kernelspec": {
   "display_name": "Python 3 (ipykernel)",
   "language": "python",
   "name": "python3"
  },
  "language_info": {
   "codemirror_mode": {
    "name": "ipython",
    "version": 3
   },
   "file_extension": ".py",
   "mimetype": "text/x-python",
   "name": "python",
   "nbconvert_exporter": "python",
   "pygments_lexer": "ipython3",
   "version": "3.11.4"
  }
 },
 "nbformat": 4,
 "nbformat_minor": 5
}
