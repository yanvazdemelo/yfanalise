{
 "cells": [
  {
   "cell_type": "code",
   "execution_count": null,
   "id": "303b10c2-8416-4472-9c7e-352907822afa",
   "metadata": {},
   "outputs": [],
   "source": [
    "import time\n",
    "import subprocess\n",
    "from datetime import datetime\n",
    "from subprocess import PIPE, Popen\n",
    "\n",
    "def restart_kernel():\n",
    "    # Comando para reiniciar o kernel do JupyterLab\n",
    "    command = [\"jupyter\", \"kernel\", \"restart\", \"--kernel-id\", \"kernel-id-here\"]\n",
    "    process = subprocess.Popen(command, stdout=PIPE, stderr=PIPE)\n",
    "    stdout, stderr = process.communicate()\n",
    "    if process.returncode == 0:\n",
    "        print(\"Kernel restarted successfully.\")\n",
    "    else:\n",
    "        print(f\"Error restarting kernel: {stderr.decode('utf-8')}\")\n",
    "\n",
    "def run_python_script(script_path):\n",
    "    # Comando para abrir e executar um script Python\n",
    "    command = [\"python\", script_path]\n",
    "    process = subprocess.Popen(command, stdout=PIPE, stderr=PIPE)\n",
    "    stdout, stderr = process.communicate()\n",
    "    if process.returncode == 0:\n",
    "        print(\"Script executed successfully.\")\n",
    "    else:\n",
    "        print(f\"Error executing script: {stderr.decode('utf-8')}\")\n",
    "\n",
    "if __name__ == \"__main__\":\n",
    "    # Reiniciar o kernel do JupyterLab\n",
    "    restart_kernel()\n",
    "\n",
    "    # Caminho para o script Python que você deseja executar\n",
    "    script_path = \"C:/Users/yanme/OneDrive/Área de Trabalho/Portifólio/yfanalise/Coletar e tratar dados financeiros.ipynb\"\n",
    "\n",
    "    # Executar o script Python\n",
    "    run_python_script(script_path)"
   ]
  }
 ],
 "metadata": {
  "kernelspec": {
   "display_name": "Python 3 (ipykernel)",
   "language": "python",
   "name": "python3"
  },
  "language_info": {
   "codemirror_mode": {
    "name": "ipython",
    "version": 3
   },
   "file_extension": ".py",
   "mimetype": "text/x-python",
   "name": "python",
   "nbconvert_exporter": "python",
   "pygments_lexer": "ipython3",
   "version": "3.11.4"
  }
 },
 "nbformat": 4,
 "nbformat_minor": 5
}
