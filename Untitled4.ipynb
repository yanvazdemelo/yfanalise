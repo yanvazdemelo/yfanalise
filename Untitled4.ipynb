{
 "cells": [
  {
   "cell_type": "code",
   "execution_count": null,
   "id": "0806fd01-9e79-4c7f-a46c-b8c15e82eda6",
   "metadata": {
    "execution": {
     "iopub.execute_input": "2024-04-08T16:29:29.053337Z",
     "iopub.status.busy": "2024-04-08T16:29:29.052360Z"
    },
    "tags": []
   },
   "outputs": [
    {
     "name": "stdout",
     "output_type": "stream",
     "text": [
      "In 86235 Seconds WhatsApp will open and after 15 Seconds Message will be Delivered!\n"
     ]
    }
   ],
   "source": [
    "import pywhatkit\n",
    "\n",
    "\n",
    "\n",
    "pywhatkit.sendwhatmsg(\"+5511939457069\",\"Hello Python\",13, 27)\n",
    "\n",
    "print(\"Successfully Sent!\")\n"
   ]
  },
  {
   "cell_type": "code",
   "execution_count": null,
   "id": "19128170-4744-47f4-ae35-94ffe2346c32",
   "metadata": {},
   "outputs": [],
   "source": []
  }
 ],
 "metadata": {
  "kernelspec": {
   "display_name": "Python 3 (ipykernel)",
   "language": "python",
   "name": "python3"
  },
  "language_info": {
   "codemirror_mode": {
    "name": "ipython",
    "version": 3
   },
   "file_extension": ".py",
   "mimetype": "text/x-python",
   "name": "python",
   "nbconvert_exporter": "python",
   "pygments_lexer": "ipython3",
   "version": "3.11.4"
  }
 },
 "nbformat": 4,
 "nbformat_minor": 5
}
