{
 "cells": [
  {
   "cell_type": "code",
   "execution_count": 4,
   "id": "848f52e6-5de3-4b1a-9c9b-34856fd3fee0",
   "metadata": {
    "execution": {
     "iopub.execute_input": "2024-03-28T17:28:44.298556Z",
     "iopub.status.busy": "2024-03-28T17:28:44.298556Z",
     "iopub.status.idle": "2024-03-28T17:28:44.549217Z",
     "shell.execute_reply": "2024-03-28T17:28:44.549217Z",
     "shell.execute_reply.started": "2024-03-28T17:28:44.298556Z"
    },
    "tags": []
   },
   "outputs": [
    {
     "name": "stdout",
     "output_type": "stream",
     "text": [
      "[*********************100%%**********************]  1 of 1 completed\n"
     ]
    },
    {
     "data": {
      "text/html": [
       "<div>\n",
       "<style scoped>\n",
       "    .dataframe tbody tr th:only-of-type {\n",
       "        vertical-align: middle;\n",
       "    }\n",
       "\n",
       "    .dataframe tbody tr th {\n",
       "        vertical-align: top;\n",
       "    }\n",
       "\n",
       "    .dataframe thead th {\n",
       "        text-align: right;\n",
       "    }\n",
       "</style>\n",
       "<table border=\"1\" class=\"dataframe\">\n",
       "  <thead>\n",
       "    <tr style=\"text-align: right;\">\n",
       "      <th></th>\n",
       "      <th>Open</th>\n",
       "      <th>High</th>\n",
       "      <th>Low</th>\n",
       "      <th>Close</th>\n",
       "      <th>Adj Close</th>\n",
       "      <th>Volume</th>\n",
       "    </tr>\n",
       "    <tr>\n",
       "      <th>Date</th>\n",
       "      <th></th>\n",
       "      <th></th>\n",
       "      <th></th>\n",
       "      <th></th>\n",
       "      <th></th>\n",
       "      <th></th>\n",
       "    </tr>\n",
       "  </thead>\n",
       "  <tbody>\n",
       "    <tr>\n",
       "      <th>2024-02-26</th>\n",
       "      <td>4.9935</td>\n",
       "      <td>4.9945</td>\n",
       "      <td>4.970000</td>\n",
       "      <td>4.9935</td>\n",
       "      <td>4.9935</td>\n",
       "      <td>0</td>\n",
       "    </tr>\n",
       "    <tr>\n",
       "      <th>2024-02-27</th>\n",
       "      <td>4.9789</td>\n",
       "      <td>4.9792</td>\n",
       "      <td>4.934200</td>\n",
       "      <td>4.9789</td>\n",
       "      <td>4.9789</td>\n",
       "      <td>0</td>\n",
       "    </tr>\n",
       "    <tr>\n",
       "      <th>2024-02-28</th>\n",
       "      <td>4.9324</td>\n",
       "      <td>4.9620</td>\n",
       "      <td>4.910208</td>\n",
       "      <td>4.9324</td>\n",
       "      <td>4.9324</td>\n",
       "      <td>0</td>\n",
       "    </tr>\n",
       "    <tr>\n",
       "      <th>2024-02-29</th>\n",
       "      <td>4.9673</td>\n",
       "      <td>4.9959</td>\n",
       "      <td>4.963101</td>\n",
       "      <td>4.9673</td>\n",
       "      <td>4.9673</td>\n",
       "      <td>0</td>\n",
       "    </tr>\n",
       "    <tr>\n",
       "      <th>2024-03-01</th>\n",
       "      <td>4.9698</td>\n",
       "      <td>4.9723</td>\n",
       "      <td>4.943618</td>\n",
       "      <td>4.9698</td>\n",
       "      <td>4.9698</td>\n",
       "      <td>0</td>\n",
       "    </tr>\n",
       "  </tbody>\n",
       "</table>\n",
       "</div>"
      ],
      "text/plain": [
       "              Open    High       Low   Close  Adj Close  Volume\n",
       "Date                                                           \n",
       "2024-02-26  4.9935  4.9945  4.970000  4.9935     4.9935       0\n",
       "2024-02-27  4.9789  4.9792  4.934200  4.9789     4.9789       0\n",
       "2024-02-28  4.9324  4.9620  4.910208  4.9324     4.9324       0\n",
       "2024-02-29  4.9673  4.9959  4.963101  4.9673     4.9673       0\n",
       "2024-03-01  4.9698  4.9723  4.943618  4.9698     4.9698       0"
      ]
     },
     "execution_count": 4,
     "metadata": {},
     "output_type": "execute_result"
    }
   ],
   "source": [
    "import yfinance as yf\n",
    "import pandas as pd\n",
    "\n",
    "downloadv = yf.download(f\"USDBRL=X\", start=f\"2024-02-25\")\n",
    "\n",
    "\n",
    "downloadv.head()"
   ]
  },
  {
   "cell_type": "code",
   "execution_count": null,
   "id": "68804be9-d6f0-4e3d-8619-1746eefd9b50",
   "metadata": {},
   "outputs": [],
   "source": []
  }
 ],
 "metadata": {
  "kernelspec": {
   "display_name": "Python 3 (ipykernel)",
   "language": "python",
   "name": "python3"
  },
  "language_info": {
   "codemirror_mode": {
    "name": "ipython",
    "version": 3
   },
   "file_extension": ".py",
   "mimetype": "text/x-python",
   "name": "python",
   "nbconvert_exporter": "python",
   "pygments_lexer": "ipython3",
   "version": "3.11.4"
  }
 },
 "nbformat": 4,
 "nbformat_minor": 5
}
