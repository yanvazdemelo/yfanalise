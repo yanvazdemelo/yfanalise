{
 "cells": [
  {
   "cell_type": "code",
   "execution_count": null,
   "id": "4fc35a2f-c2bf-4448-a88d-4b2f781119ce",
   "metadata": {},
   "outputs": [],
   "source": [
    "conn = sqlite3.connect('yfhistoric.db')\n",
    "cursor = conn.cursor()\n",
    "cursor.execute(f'''\n",
    "    CREATE TABLE IF NOT EXISTS projection_tendencies(\n",
    "        id INTEGER PRIMARY KEY,\n",
    "        code TEXT NOT NULL,\n",
    "        yr_reg REAL, \n",
    "        yr_r2 REAL,\n",
    "        yr_var REAL,\n",
    "        6m_reg REAL, \n",
    "        6m_r2 REAL,\n",
    "        6m_var REAL,\n",
    "        3m_reg REAL, \n",
    "        3m_r2 REAL,\n",
    "        3m_var REAL,\n",
    "        1m_reg REAL, \n",
    "        1m_r2 REAL,\n",
    "        1m_var REAL,\n",
    "        1w_reg REAL, \n",
    "        1w_r2 REAL,\n",
    "        1w_var REAL,\n",
    "        country TEXT NOT NULL,\n",
    "        datatype TEXT NOT NULL,\n",
    "    );    \n",
    "    ''') \n",
    "\n",
    "\n",
    "conn.close()"
   ]
  }
 ],
 "metadata": {
  "kernelspec": {
   "display_name": "Python 3 (ipykernel)",
   "language": "python",
   "name": "python3"
  },
  "language_info": {
   "codemirror_mode": {
    "name": "ipython",
    "version": 3
   },
   "file_extension": ".py",
   "mimetype": "text/x-python",
   "name": "python",
   "nbconvert_exporter": "python",
   "pygments_lexer": "ipython3",
   "version": "3.11.4"
  }
 },
 "nbformat": 4,
 "nbformat_minor": 5
}
