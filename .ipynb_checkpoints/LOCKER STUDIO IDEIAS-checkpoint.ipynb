{
 "cells": [
  {
   "cell_type": "markdown",
   "id": "37b816cd-480e-4e11-9b24-ac4a32d9781c",
   "metadata": {},
   "source": [
    "# Ideias para o locker studio"
   ]
  },
  {
   "cell_type": "markdown",
   "id": "7d9314bc-550a-4c32-b377-50fd4d602206",
   "metadata": {},
   "source": [
    "+ Uma página para cada páis\n",
    "    + Página com dados resumidos\n",
    "    + Uma página para os agregados e câmbio\n",
    "    + Página com as principais empresas\n",
    "    + Página com as principais empresas de comoddities e o preço mundial\n",
    "    + Notícias do país\n",
    "+ Páginas para os commodities\n",
    "+ Uma página para análise das criptomoedas\n",
    "+ Página da economia mundial"
   ]
  },
  {
   "cell_type": "markdown",
   "id": "d74353d1-a753-4b95-922a-e9136bca21b5",
   "metadata": {
    "execution": {
     "iopub.execute_input": "2024-05-11T02:41:23.617338Z",
     "iopub.status.busy": "2024-05-11T02:41:23.617338Z",
     "iopub.status.idle": "2024-05-11T02:41:23.627106Z",
     "shell.execute_reply": "2024-05-11T02:41:23.626118Z",
     "shell.execute_reply.started": "2024-05-11T02:41:23.617338Z"
    },
    "tags": []
   },
   "source": [
    "-----------"
   ]
  },
  {
   "cell_type": "markdown",
   "id": "3548a65e-5e94-4f5b-b720-253ad3084a03",
   "metadata": {},
   "source": [
    "+ VER A VARIÂNCIA OPEN/CLOSE DE TODOS OS DADOS DISPONÍVEIS VER AS MAIORES E MENORES\n",
    "+ VER OS MAIORES VOLUMES DE TODOS OS DADOS"
   ]
  }
 ],
 "metadata": {
  "kernelspec": {
   "display_name": "Python 3 (ipykernel)",
   "language": "python",
   "name": "python3"
  },
  "language_info": {
   "codemirror_mode": {
    "name": "ipython",
    "version": 3
   },
   "file_extension": ".py",
   "mimetype": "text/x-python",
   "name": "python",
   "nbconvert_exporter": "python",
   "pygments_lexer": "ipython3",
   "version": "3.11.4"
  }
 },
 "nbformat": 4,
 "nbformat_minor": 5
}
